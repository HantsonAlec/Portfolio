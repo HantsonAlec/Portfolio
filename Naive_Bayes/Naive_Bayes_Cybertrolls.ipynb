{
 "cells": [
  {
   "cell_type": "code",
   "execution_count": 223,
   "metadata": {},
   "outputs": [
    {
     "name": "stderr",
     "output_type": "stream",
     "text": [
      "[nltk_data] Downloading package stopwords to\n",
      "[nltk_data]     /Users/alechantson/nltk_data...\n",
      "[nltk_data]   Package stopwords is already up-to-date!\n"
     ]
    }
   ],
   "source": [
    "%matplotlib inline\n",
    "import numpy as np\n",
    "import pandas as pd\n",
    "import matplotlib.pyplot as plt\n",
    "from sklearn.model_selection import train_test_split\n",
    "from sklearn.metrics import classification_report\n",
    "from sklearn.metrics import confusion_matrix\n",
    "from sklearn.metrics import accuracy_score\n",
    "\n",
    "from sklearn.linear_model import LogisticRegression\n",
    "from sklearn import svm\n",
    "from sklearn.naive_bayes import MultinomialNB\n",
    "from sklearn.naive_bayes import GaussianNB\n",
    "import scipy as sp\n",
    "import nltk\n",
    "import seaborn as sns\n",
    "from nltk.corpus import stopwords\n",
    "import re #regular expressions\n",
    "from bs4 import BeautifulSoup\n",
    "from nltk.stem.snowball import SnowballStemmer\n",
    "from sklearn.feature_extraction.text import CountVectorizer\n",
    "from sklearn.feature_extraction.text import TfidfTransformer\n",
    "import ssl\n",
    "try:\n",
    "    _create_unverified_https_context = ssl._create_unverified_context\n",
    "except AttributeError:\n",
    "    pass\n",
    "else:\n",
    "    ssl._create_default_https_context = _create_unverified_https_context\n",
    "nltk.download('stopwords')\n",
    "pd.set_option('display.max_rows',1000)\n",
    "pd.set_option('display.max_columns',1000)\n",
    "pd.set_option('display.max_colwidth',150)"
   ]
  },
  {
   "cell_type": "code",
   "execution_count": 226,
   "metadata": {},
   "outputs": [
    {
     "data": {
      "text/html": [
       "<div>\n",
       "<style scoped>\n",
       "    .dataframe tbody tr th:only-of-type {\n",
       "        vertical-align: middle;\n",
       "    }\n",
       "\n",
       "    .dataframe tbody tr th {\n",
       "        vertical-align: top;\n",
       "    }\n",
       "\n",
       "    .dataframe thead th {\n",
       "        text-align: right;\n",
       "    }\n",
       "</style>\n",
       "<table border=\"1\" class=\"dataframe\">\n",
       "  <thead>\n",
       "    <tr style=\"text-align: right;\">\n",
       "      <th></th>\n",
       "      <th>annotation</th>\n",
       "      <th>content</th>\n",
       "    </tr>\n",
       "  </thead>\n",
       "  <tbody>\n",
       "    <tr>\n",
       "      <th>0</th>\n",
       "      <td>1</td>\n",
       "      <td>Get fucking real dude.</td>\n",
       "    </tr>\n",
       "    <tr>\n",
       "      <th>1</th>\n",
       "      <td>1</td>\n",
       "      <td>She is as dirty as they come  and that crook Rengel  the Dems are so fucking corrupt it's a joke. Make Republicans look like  ...</td>\n",
       "    </tr>\n",
       "    <tr>\n",
       "      <th>2</th>\n",
       "      <td>1</td>\n",
       "      <td>why did you fuck it up. I could do it all day too. Let's do it when you have an hour. Ping me later to sched writing a book here.</td>\n",
       "    </tr>\n",
       "    <tr>\n",
       "      <th>3</th>\n",
       "      <td>1</td>\n",
       "      <td>Dude they dont finish enclosing the fucking showers. I hate half assed jobs. Whats the reasononing behind it? Makes no sense.</td>\n",
       "    </tr>\n",
       "    <tr>\n",
       "      <th>4</th>\n",
       "      <td>1</td>\n",
       "      <td>WTF are you talking about Men? No men thats not a menage  that's just gay.</td>\n",
       "    </tr>\n",
       "  </tbody>\n",
       "</table>\n",
       "</div>"
      ],
      "text/plain": [
       "   annotation  \\\n",
       "0           1   \n",
       "1           1   \n",
       "2           1   \n",
       "3           1   \n",
       "4           1   \n",
       "\n",
       "                                                                                                                              content  \n",
       "0                                                                                                              Get fucking real dude.  \n",
       "1   She is as dirty as they come  and that crook Rengel  the Dems are so fucking corrupt it's a joke. Make Republicans look like  ...  \n",
       "2   why did you fuck it up. I could do it all day too. Let's do it when you have an hour. Ping me later to sched writing a book here.  \n",
       "3       Dude they dont finish enclosing the fucking showers. I hate half assed jobs. Whats the reasononing behind it? Makes no sense.  \n",
       "4                                                          WTF are you talking about Men? No men thats not a menage  that's just gay.  "
      ]
     },
     "execution_count": 226,
     "metadata": {},
     "output_type": "execute_result"
    }
   ],
   "source": [
    "dataset = pd.read_csv('Cybetrolls.csv')\n",
    "dataset.head()"
   ]
  },
  {
   "cell_type": "code",
   "execution_count": 227,
   "metadata": {
    "scrolled": true
   },
   "outputs": [
    {
     "data": {
      "text/plain": [
       "<AxesSubplot:xlabel='annotation', ylabel='count'>"
      ]
     },
     "execution_count": 227,
     "metadata": {},
     "output_type": "execute_result"
    },
    {
     "data": {
      "image/png": "[encoded data removed]",
      "text/plain": [
       "<Figure size 432x288 with 1 Axes>"
      ]
     },
     "metadata": {
      "needs_background": "light"
     },
     "output_type": "display_data"
    }
   ],
   "source": [
    "# Check balancedness, more non trolls than non trolls\n",
    "sns.countplot(x='annotation',data=dataset)"
   ]
  },
  {
   "cell_type": "code",
   "execution_count": 228,
   "metadata": {},
   "outputs": [],
   "source": [
    "# Text preprocessing\n",
    "def text_preprocessing(text, language, minWordSize):\n",
    "    # remove html\n",
    "    text_no_html = BeautifulSoup(str(text),\"html.parser\" ).get_text()\n",
    "    # remove non-letters\n",
    "    text_alpha_chars = re.sub(\"[^a-zA-Z']\", \" \", str(text_no_html)) \n",
    "    # convert to lower-case\n",
    "    text_lower = text_alpha_chars.lower()\n",
    "    # remove stop words\n",
    "    stops = set(stopwords.words(language)) \n",
    "    text_no_stop_words = ' '\n",
    "    for w in text_lower.split():\n",
    "        if w not in stops:  \n",
    "            text_no_stop_words = text_no_stop_words + w + ' '\n",
    "    # do stemming\n",
    "    text_stemmer = ' '\n",
    "    stemmer = SnowballStemmer(language)\n",
    "    for w in text_no_stop_words.split():\n",
    "        text_stemmer = text_stemmer + stemmer.stem(w) + ' ' \n",
    "    # remove short words\n",
    "    text_no_short_words = ' '\n",
    "    for w in text_stemmer.split(): \n",
    "        if len(w) >=minWordSize:\n",
    "            text_no_short_words = text_no_short_words + w + ' '\n",
    "    return text_no_short_words\n"
   ]
  },
  {
   "cell_type": "code",
   "execution_count": 229,
   "metadata": {},
   "outputs": [
    {
     "name": "stderr",
     "output_type": "stream",
     "text": [
      "/usr/local/lib/python3.9/site-packages/bs4/__init__.py:417: MarkupResemblesLocatorWarning: \"http://tinyurl.com/these-hats-are-damn-tradition\" looks like a URL. Beautiful Soup is not an HTTP client. You should probably use an HTTP client like requests to get the document behind the URL, and feed that document to Beautiful Soup.\n",
      "  warnings.warn(\n"
     ]
    }
   ],
   "source": [
    "language = 'english'\n",
    "minWordLength = 2 \n",
    "dataset['content']=dataset['content'].apply(text_preprocessing, args=(language,minWordLength))"
   ]
  },
  {
   "cell_type": "code",
   "execution_count": 230,
   "metadata": {},
   "outputs": [],
   "source": [
    "#add length of sentence as feature\n",
    "dataset['length']  = dataset['content'].str.split().apply(len)"
   ]
  },
  {
   "cell_type": "code",
   "execution_count": 231,
   "metadata": {},
   "outputs": [],
   "source": [
    "train, test = train_test_split(dataset, test_size=0.20, random_state=0)"
   ]
  },
  {
   "cell_type": "code",
   "execution_count": 232,
   "metadata": {},
   "outputs": [],
   "source": [
    "#Augmentation to alter the oversampled data\n",
    "aug_random = naw.RandomWordAug(action=\"swap\")\n",
    "aug = naw.ContextualWordEmbsAug(\n",
    "    model_path='bert-base-uncased', action=\"insert\")\n",
    "def augmentator(text):\n",
    "    text = aug.augment(text) #random insert words that fit in context\n",
    "    text = aug_random.augment(text) #random switch text\n",
    "    return text\n"
   ]
  },
  {
   "cell_type": "code",
   "execution_count": 233,
   "metadata": {},
   "outputs": [
    {
     "name": "stdout",
     "output_type": "stream",
     "text": [
      "3500\n",
      "3450\n",
      "3400\n",
      "3350\n",
      "3300\n",
      "3250\n",
      "3200\n",
      "3150\n",
      "3100\n",
      "3050\n",
      "3000\n",
      "2950\n",
      "2900\n",
      "2850\n",
      "2800\n",
      "2750\n",
      "2700\n",
      "2650\n",
      "2600\n",
      "2550\n",
      "2500\n",
      "2450\n",
      "2400\n",
      "2350\n",
      "2300\n",
      "2250\n",
      "2200\n",
      "2150\n",
      "2100\n",
      "2050\n",
      "2000\n",
      "1950\n",
      "1900\n",
      "1850\n",
      "1800\n",
      "1750\n",
      "1700\n",
      "1650\n",
      "1600\n",
      "1550\n",
      "1500\n",
      "1450\n",
      "1400\n",
      "1350\n",
      "1300\n",
      "1250\n",
      "1200\n",
      "1150\n",
      "1100\n",
      "1050\n",
      "1000\n",
      "950\n",
      "900\n",
      "850\n",
      "800\n",
      "750\n",
      "700\n",
      "650\n",
      "600\n",
      "550\n",
      "500\n",
      "450\n",
      "400\n",
      "350\n",
      "300\n",
      "250\n",
      "200\n",
      "150\n",
      "100\n"
     ]
    }
   ],
   "source": [
    "#Custom oversample\n",
    "#Setup\n",
    "max_category_count=0\n",
    "max_category_count= max(train['annotation'].value_counts())\n",
    "minority_class=train['annotation'].value_counts()[1:].index.tolist()[0]\n",
    "#loop through every category\n",
    "count=len(train[train['annotation']==minority_class])\n",
    "up_value=50\n",
    "difference= max_category_count - count\n",
    "while difference>50:\n",
    "    print(difference)\n",
    "    #Oversample and augmentation\n",
    "    oversample_set= train[train['annotation']==minority_class].sample(int(up_value))\n",
    "    oversample_set['content']=oversample_set['content'].apply(augmentator)\n",
    "    difference= difference-len(oversample_set)\n",
    "    train=train.append(oversample_set, ignore_index = True)"
   ]
  },
  {
   "cell_type": "code",
   "execution_count": 234,
   "metadata": {},
   "outputs": [
    {
     "data": {
      "text/plain": [
       "<AxesSubplot:xlabel='annotation', ylabel='count'>"
      ]
     },
     "execution_count": 234,
     "metadata": {},
     "output_type": "execute_result"
    },
    {
     "data": {
      "image/png": "[encoded data removed]",
      "text/plain": [
       "<Figure size 432x288 with 1 Axes>"
      ]
     },
     "metadata": {
      "needs_background": "light"
     },
     "output_type": "display_data"
    }
   ],
   "source": [
    "sns.countplot(x='annotation',data=train)\n",
    "#Data is now balanced"
   ]
  },
  {
   "cell_type": "code",
   "execution_count": 235,
   "metadata": {},
   "outputs": [],
   "source": [
    "X_train = train.drop(['annotation'], axis=1)\n",
    "y_train = train['annotation'].values\n",
    "X_test = test.drop(['annotation'], axis=1)\n",
    "y_test = test['annotation'].values"
   ]
  },
  {
   "cell_type": "code",
   "execution_count": 236,
   "metadata": {},
   "outputs": [],
   "source": [
    "# Bag of words with count of every word\n",
    "def make_bow(X_train,X_test):\n",
    "    count_vect = CountVectorizer()\n",
    "    X_train_bag_of_words = count_vect.fit(X_train['content'])\n",
    "    X_train_bag_of_words = count_vect.transform(X_train['content'])\n",
    "    X_test_bag_of_words = count_vect.transform(X_test['content'])\n",
    "    #print(X_train_bag_of_words)\n",
    "    #print(X_test_bag_of_words)\n",
    "    \n",
    "    tfidf_transformer = TfidfTransformer()\n",
    "    tf_transformer = TfidfTransformer(use_idf=True).fit(X_train_bag_of_words)\n",
    "    X_train_tf = tf_transformer.transform(X_train_bag_of_words)\n",
    "    X_test_tf = tf_transformer.transform(X_test_bag_of_words)\n",
    "    return X_train_tf,X_test_tf,count_vect"
   ]
  },
  {
   "cell_type": "code",
   "execution_count": 237,
   "metadata": {},
   "outputs": [],
   "source": [
    "X_train_tf,X_test_tf,count_vect=make_bow(X_train,X_test)"
   ]
  },
  {
   "cell_type": "code",
   "execution_count": 238,
   "metadata": {},
   "outputs": [],
   "source": [
    "#Add lenght and BOW\n",
    "matrix_train=sp.sparse.csr_matrix(X_train['length'].values)\n",
    "matrix_train=np.transpose(matrix_train)\n",
    "\n",
    "matrix_test=sp.sparse.csr_matrix(X_test['length'].values)\n",
    "matrix_test=np.transpose(matrix_test)\n",
    "\n",
    "X_train_tf=sp.sparse.hstack((X_train_tf,matrix_train))\n",
    "X_test_tf=sp.sparse.hstack((X_test_tf,matrix_test))"
   ]
  },
  {
   "cell_type": "code",
   "execution_count": 225,
   "metadata": {},
   "outputs": [
    {
     "name": "stdout",
     "output_type": "stream",
     "text": [
      "Fitting 100 folds for each of 100 candidates, totalling 10000 fits\n",
      "Best accuracy :  0.800875\n",
      "Best parameters : {'alpha': 0.03658205769305778}\n",
      "              precision    recall  f1-score   support\n",
      "\n",
      "           0       0.84      0.84      0.84      2429\n",
      "           1       0.76      0.76      0.76      1572\n",
      "\n",
      "    accuracy                           0.81      4001\n",
      "   macro avg       0.80      0.80      0.80      4001\n",
      "weighted avg       0.81      0.81      0.81      4001\n",
      "\n",
      "[[2048  381]\n",
      " [ 379 1193]]\n",
      "81.0047488127968\n"
     ]
    }
   ],
   "source": [
    "from sklearn.model_selection import RandomizedSearchCV\n",
    "from scipy.stats import randint \n",
    "from scipy.stats import uniform\n",
    "#MODEL\n",
    "model = MultinomialNB()\n",
    "parameters = {'alpha':uniform(0.001, 1)}\n",
    "\n",
    "n_iter_search = 100\n",
    "random_search = RandomizedSearchCV(model, param_distributions=parameters,cv=100,n_iter=n_iter_search,n_jobs = 6,verbose=5)\n",
    "\n",
    "random_search = random_search.fit(X_train_tf, y_train)\n",
    "\n",
    "best_accuracy = random_search.best_score_ \n",
    "best_parameters = random_search.best_params_  \n",
    "\n",
    "print('Best accuracy : ', random_search.best_score_)\n",
    "print('Best parameters :',random_search.best_params_  )\n",
    "\n",
    "y_pred = random_search.predict(X_test_tf)\n",
    "print(classification_report(y_test, y_pred))\n",
    "\n",
    "cf = confusion_matrix(y_test, y_pred)\n",
    "print(cf)\n",
    "print(accuracy_score(y_test, y_pred) * 100)\n",
    "\n",
    "#Our models suffers from the bias, naive bayes doesn't have the options to use class weights."
   ]
  },
  {
   "cell_type": "code",
   "execution_count": 239,
   "metadata": {},
   "outputs": [
    {
     "name": "stdout",
     "output_type": "stream",
     "text": [
      "Fitting 100 folds for each of 100 candidates, totalling 10000 fits\n",
      "Best accuracy :  0.8313661115516786\n",
      "Best parameters : {'alpha': 0.03615846049955618}\n",
      "              precision    recall  f1-score   support\n",
      "\n",
      "           0       0.88      0.76      0.81      2429\n",
      "           1       0.69      0.84      0.76      1572\n",
      "\n",
      "    accuracy                           0.79      4001\n",
      "   macro avg       0.79      0.80      0.79      4001\n",
      "weighted avg       0.81      0.79      0.79      4001\n",
      "\n",
      "[[1841  588]\n",
      " [ 249 1323]]\n",
      "79.08022994251436\n"
     ]
    }
   ],
   "source": [
    "#WITH BALANCED DATA\n",
    "from sklearn.model_selection import RandomizedSearchCV\n",
    "from scipy.stats import randint \n",
    "from scipy.stats import uniform\n",
    "#MODEL\n",
    "model = MultinomialNB()\n",
    "parameters = {'alpha':uniform(0.001, 1)}\n",
    "\n",
    "n_iter_search = 100\n",
    "random_search = RandomizedSearchCV(model, param_distributions=parameters,cv=100,n_iter=n_iter_search,n_jobs = 6,verbose=5)\n",
    "\n",
    "random_search = random_search.fit(X_train_tf, y_train)\n",
    "\n",
    "best_accuracy = random_search.best_score_ \n",
    "best_parameters = random_search.best_params_  \n",
    "\n",
    "print('Best accuracy : ', random_search.best_score_)\n",
    "print('Best parameters :',random_search.best_params_  )\n",
    "\n",
    "y_pred = random_search.predict(X_test_tf)\n",
    "print(classification_report(y_test, y_pred))\n",
    "\n",
    "cf = confusion_matrix(y_test, y_pred)\n",
    "print(cf)\n",
    "print(accuracy_score(y_test, y_pred) * 100)\n",
    "\n",
    "#Even with slightly less accuracy we can see that we have less of a bias, higher recall for orignal minority class and slightly better f1 score.\n",
    "#It might be better in this case to keep the original dataset since it represents the 'real life' situation"
   ]
  },
  {
   "cell_type": "code",
   "execution_count": 156,
   "metadata": {},
   "outputs": [
    {
     "data": {
      "image/png": "[encoded data removed]",
      "text/plain": [
       "<Figure size 432x288 with 1 Axes>"
      ]
     },
     "metadata": {
      "needs_background": "light"
     },
     "output_type": "display_data"
    }
   ],
   "source": [
    "import sklearn.metrics as metrics\n",
    "#ROC\n",
    "# calculate the fpr and tpr for all thresholds of the classification\n",
    "probs = random_search.predict_proba(X_test_tf)\n",
    "preds = probs[:,1]\n",
    "fpr, tpr, threshold = metrics.roc_curve(y_test, preds)\n",
    "roc_auc = metrics.auc(fpr, tpr)\n",
    "plt.title('Receiver Operating Characteristic')\n",
    "plt.plot(fpr, tpr, 'b', label = 'AUC = %0.2f' % roc_auc)\n",
    "plt.legend(loc = 'lower right')\n",
    "plt.plot([0, 1], [0, 1],'r--')\n",
    "plt.xlim([0, 1])\n",
    "plt.ylim([0, 1])\n",
    "plt.ylabel('True Positive Rate')\n",
    "plt.xlabel('False Positive Rate')\n",
    "plt.show()"
   ]
  },
  {
   "cell_type": "code",
   "execution_count": 141,
   "metadata": {},
   "outputs": [
    {
     "name": "stdout",
     "output_type": "stream",
     "text": [
      "1) Word:fuck, Feature: 3781, Score: -3.9302074648627077f\n",
      "2) Word:hate, Feature: 4469, Score: -4.135976487295397f\n",
      "3) Word:suck, Feature: 9742, Score: -4.324105509253734f\n",
      "4) Word:damn, Feature: 2368, Score: -4.365193805442981f\n",
      "5) Word:ass, Feature: 505, Score: -4.479410350214048f\n",
      "6) Word:bitch, Feature: 1010, Score: -4.808106110483631f\n",
      "7) Word:lol, Feature: 5966, Score: -4.957615723328781f\n",
      "8) Word:gay, Feature: 3914, Score: -5.059007392794637f\n",
      "9) Word:get, Feature: 3972, Score: -5.138625000521493f\n",
      "10) Word:like, Feature: 5869, Score: -5.247939382910364f\n"
     ]
    },
    {
     "name": "stderr",
     "output_type": "stream",
     "text": [
      "/usr/local/lib/python3.9/site-packages/sklearn/utils/deprecation.py:101: FutureWarning: Attribute coef_ was deprecated in version 0.24 and will be removed in 1.1 (renaming of 0.26).\n",
      "  warnings.warn(msg, category=FutureWarning)\n"
     ]
    }
   ],
   "source": [
    "#Getting top 10 words that suggest trolls\n",
    "best_model = random_search.best_estimator_\n",
    "importance = enumerate(best_model.coef_[0])\n",
    "importance = sorted(importance, key=lambda x:x[1],reverse=True)[:10]\n",
    "place=1\n",
    "for i,v in importance:\n",
    "    print(f\"{place}) Word:{count_vect.get_feature_names()[i]}, Feature: {i}, Score: {v}f\")\n",
    "    place+=1"
   ]
  },
  {
   "cell_type": "code",
   "execution_count": null,
   "metadata": {},
   "outputs": [],
   "source": []
  }
 ],
 "metadata": {
  "kernelspec": {
   "display_name": "Python 3",
   "language": "python",
   "name": "python3"
  },
  "language_info": {
   "codemirror_mode": {
    "name": "ipython",
    "version": 3
   },
   "file_extension": ".py",
   "mimetype": "text/x-python",
   "name": "python",
   "nbconvert_exporter": "python",
   "pygments_lexer": "ipython3",
   "version": "3.9.1"
  },
  "varInspector": {
   "cols": {
    "lenName": 16,
    "lenType": 16,
    "lenVar": 40
   },
   "kernels_config": {
    "python": {
     "delete_cmd_postfix": "",
     "delete_cmd_prefix": "del ",
     "library": "var_list.py",
     "varRefreshCmd": "print(var_dic_list())"
    },
    "r": {
     "delete_cmd_postfix": ") ",
     "delete_cmd_prefix": "rm(",
     "library": "var_list.r",
     "varRefreshCmd": "cat(var_dic_list()) "
    }
   },
   "types_to_exclude": [
    "module",
    "function",
    "builtin_function_or_method",
    "instance",
    "_Feature"
   ],
   "window_display": false
  }
 },
 "nbformat": 4,
 "nbformat_minor": 4
}
