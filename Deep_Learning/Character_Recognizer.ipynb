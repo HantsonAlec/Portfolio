{
  "nbformat": 4,
  "nbformat_minor": 0,
  "metadata": {
    "colab": {
      "name": "Character_Recognizer.ipynb",
      "provenance": [],
      "collapsed_sections": []
    },
    "kernelspec": {
      "name": "python3",
      "display_name": "Python 3"
    },
    "language_info": {
      "name": "python"
    },
    "accelerator": "GPU"
  },
  "cells": [
    {
      "cell_type": "code",
      "metadata": {
        "id": "foRB0A_GdYCt"
      },
      "source": [
        "import numpy as np\n",
        "import pandas as pd\n",
        "import seaborn as sns\n",
        "import cv2\n",
        "import tensorflow as tf\n",
        "import matplotlib.pyplot as plt\n",
        "from tensorflow.keras.models import Model\n",
        "from tensorflow.keras.layers import Dense, Flatten, Activation, Input, Dropout\n",
        "from tensorflow.keras.callbacks import EarlyStopping\n",
        "from sklearn.metrics import confusion_matrix,accuracy_score, classification_report"
      ],
      "execution_count": 32,
      "outputs": []
    },
    {
      "cell_type": "code",
      "metadata": {
        "id": "E08ZB9taJ-RA"
      },
      "source": [
        "train = np.load('/content/drive/MyDrive/data/CompleteDataSet_training_tuples.npy', allow_pickle=True)\n",
        "test = np.load('/content/drive/MyDrive/data/CompleteDataSet_testing_tuples.npy', allow_pickle=True)"
      ],
      "execution_count": 3,
      "outputs": []
    },
    {
      "cell_type": "code",
      "metadata": {
        "colab": {
          "base_uri": "https://localhost:8080/"
        },
        "id": "pBBuGwWwluL8",
        "outputId": "f896bcfd-be91-48e8-c53f-a37cc13555aa"
      },
      "source": [
        "train = pd.DataFrame(train, columns=['image', 'sign'])\n",
        "test = pd.DataFrame(test, columns=['image', 'sign'])\n",
        "\n",
        "X_train=np.stack(train['image'],0)\n",
        "y_train=np.stack(train['sign'],0)\n",
        "\n",
        "X_test=np.stack(test['image'],0)\n",
        "y_test=np.stack(test['sign'],0)\n",
        "\n",
        "print(X_train.shape,y_train.shape)\n",
        "print(X_test.shape,y_test.shape)"
      ],
      "execution_count": 4,
      "outputs": [
        {
          "output_type": "stream",
          "text": [
            "(200331, 28, 28) (200331,)\n",
            "(66778, 28, 28) (66778,)\n"
          ],
          "name": "stdout"
        }
      ]
    },
    {
      "cell_type": "code",
      "metadata": {
        "colab": {
          "base_uri": "https://localhost:8080/",
          "height": 296
        },
        "id": "DmysQXBKHP8_",
        "outputId": "5e46a53b-6a09-49be-a347-bd9a7fbffdb5"
      },
      "source": [
        "sns.countplot(data=train, x='sign')\n",
        "#Data seems pretty balanced"
      ],
      "execution_count": 34,
      "outputs": [
        {
          "output_type": "execute_result",
          "data": {
            "text/plain": [
              "<matplotlib.axes._subplots.AxesSubplot at 0x7f9aa30061d0>"
            ]
          },
          "metadata": {
            "tags": []
          },
          "execution_count": 34
        },
        {
          "output_type": "display_data",
          "data": {
            "image/png": "[encoded data removed]",
            "text/plain": [
              "<Figure size 432x288 with 1 Axes>"
            ]
          },
          "metadata": {
            "tags": [],
            "needs_background": "light"
          }
        }
      ]
    },
    {
      "cell_type": "code",
      "metadata": {
        "id": "32W8tU3MBjfN"
      },
      "source": [
        "#Make the target categorical before predicting\n",
        "y_train_cats=pd.Categorical(y_train)\n",
        "y_test_cats=pd.Categorical(y_test)\n",
        "y_train=y_train_cats.codes\n",
        "y_test=y_test_cats.codes"
      ],
      "execution_count": 5,
      "outputs": []
    },
    {
      "cell_type": "code",
      "metadata": {
        "colab": {
          "base_uri": "https://localhost:8080/"
        },
        "id": "C55kp25B6CnE",
        "outputId": "c0e91938-312a-4bbb-81b6-84d3435eac32"
      },
      "source": [
        "#Optimizer\n",
        "opt = tf.keras.optimizers.Adam(lr=0.0001)\n",
        "# Early stopping\n",
        "es = EarlyStopping(monitor='val_loss', mode='min', verbose=1, patience=20)\n",
        "\n",
        "#Input\n",
        "input=Input(shape=(28,28))\n",
        "flatten_input = Flatten(input_shape=[28,28])(input)\n",
        "\n",
        "#Hidden layers\n",
        "hl_1=Dense(128,activation='relu')(flatten_input)\n",
        "drop=Dropout(0.2)(hl_1) #Adding some dropout to lower the overfitting\n",
        "hl_2=Dense(64,activation='relu')(drop)\n",
        "\n",
        "#Output layer - softmax since we have multiple categories\n",
        "output = Dense(16,activation='softmax')(hl_2)\n",
        "\n",
        "#Set parameters for our model\n",
        "epochs = 100\n",
        "batch_size = 32\n",
        "model = Model(inputs=input, outputs=output)\n",
        "model.compile(loss='sparse_categorical_crossentropy', optimizer=opt,metrics=['accuracy'])\n",
        "\n",
        "#Start training\n",
        "history=model.fit(X_train,y_train,epochs=epochs,batch_size=batch_size,validation_split=0.2,callbacks=[es])"
      ],
      "execution_count": 35,
      "outputs": [
        {
          "output_type": "stream",
          "text": [
            "/usr/local/lib/python3.7/dist-packages/tensorflow/python/keras/optimizer_v2/optimizer_v2.py:375: UserWarning: The `lr` argument is deprecated, use `learning_rate` instead.\n",
            "  \"The `lr` argument is deprecated, use `learning_rate` instead.\")\n"
          ],
          "name": "stderr"
        },
        {
          "output_type": "stream",
          "text": [
            "Epoch 1/100\n",
            "5009/5009 [==============================] - 14s 3ms/step - loss: 0.9513 - accuracy: 0.7091 - val_loss: 0.5203 - val_accuracy: 0.8415\n",
            "Epoch 2/100\n",
            "5009/5009 [==============================] - 13s 3ms/step - loss: 0.5052 - accuracy: 0.8429 - val_loss: 0.3794 - val_accuracy: 0.8839\n",
            "Epoch 3/100\n",
            "5009/5009 [==============================] - 13s 3ms/step - loss: 0.3950 - accuracy: 0.8777 - val_loss: 0.3098 - val_accuracy: 0.9059\n",
            "Epoch 4/100\n",
            "5009/5009 [==============================] - 14s 3ms/step - loss: 0.3302 - accuracy: 0.8973 - val_loss: 0.2674 - val_accuracy: 0.9182\n",
            "Epoch 5/100\n",
            "5009/5009 [==============================] - 14s 3ms/step - loss: 0.2921 - accuracy: 0.9090 - val_loss: 0.2398 - val_accuracy: 0.9268\n",
            "Epoch 6/100\n",
            "5009/5009 [==============================] - 14s 3ms/step - loss: 0.2617 - accuracy: 0.9179 - val_loss: 0.2221 - val_accuracy: 0.9305\n",
            "Epoch 7/100\n",
            "5009/5009 [==============================] - 14s 3ms/step - loss: 0.2418 - accuracy: 0.9246 - val_loss: 0.2072 - val_accuracy: 0.9352\n",
            "Epoch 8/100\n",
            "5009/5009 [==============================] - 14s 3ms/step - loss: 0.2228 - accuracy: 0.9294 - val_loss: 0.1938 - val_accuracy: 0.9405\n",
            "Epoch 9/100\n",
            "5009/5009 [==============================] - 13s 3ms/step - loss: 0.2097 - accuracy: 0.9334 - val_loss: 0.1841 - val_accuracy: 0.9424\n",
            "Epoch 10/100\n",
            "5009/5009 [==============================] - 14s 3ms/step - loss: 0.1983 - accuracy: 0.9367 - val_loss: 0.1760 - val_accuracy: 0.9455\n",
            "Epoch 11/100\n",
            "5009/5009 [==============================] - 14s 3ms/step - loss: 0.1869 - accuracy: 0.9408 - val_loss: 0.1706 - val_accuracy: 0.9466\n",
            "Epoch 12/100\n",
            "5009/5009 [==============================] - 15s 3ms/step - loss: 0.1791 - accuracy: 0.9426 - val_loss: 0.1665 - val_accuracy: 0.9475\n",
            "Epoch 13/100\n",
            "5009/5009 [==============================] - 13s 3ms/step - loss: 0.1701 - accuracy: 0.9455 - val_loss: 0.1620 - val_accuracy: 0.9489\n",
            "Epoch 14/100\n",
            "5009/5009 [==============================] - 14s 3ms/step - loss: 0.1642 - accuracy: 0.9470 - val_loss: 0.1550 - val_accuracy: 0.9510\n",
            "Epoch 15/100\n",
            "5009/5009 [==============================] - 13s 3ms/step - loss: 0.1580 - accuracy: 0.9491 - val_loss: 0.1535 - val_accuracy: 0.9510\n",
            "Epoch 16/100\n",
            "5009/5009 [==============================] - 14s 3ms/step - loss: 0.1517 - accuracy: 0.9508 - val_loss: 0.1490 - val_accuracy: 0.9530\n",
            "Epoch 17/100\n",
            "5009/5009 [==============================] - 14s 3ms/step - loss: 0.1470 - accuracy: 0.9523 - val_loss: 0.1474 - val_accuracy: 0.9530\n",
            "Epoch 18/100\n",
            "5009/5009 [==============================] - 13s 3ms/step - loss: 0.1423 - accuracy: 0.9536 - val_loss: 0.1450 - val_accuracy: 0.9546\n",
            "Epoch 19/100\n",
            "5009/5009 [==============================] - 13s 3ms/step - loss: 0.1368 - accuracy: 0.9548 - val_loss: 0.1447 - val_accuracy: 0.9544\n",
            "Epoch 20/100\n",
            "5009/5009 [==============================] - 14s 3ms/step - loss: 0.1333 - accuracy: 0.9562 - val_loss: 0.1412 - val_accuracy: 0.9555\n",
            "Epoch 21/100\n",
            "5009/5009 [==============================] - 14s 3ms/step - loss: 0.1300 - accuracy: 0.9572 - val_loss: 0.1404 - val_accuracy: 0.9562\n",
            "Epoch 22/100\n",
            "5009/5009 [==============================] - 14s 3ms/step - loss: 0.1269 - accuracy: 0.9578 - val_loss: 0.1372 - val_accuracy: 0.9564\n",
            "Epoch 23/100\n",
            "5009/5009 [==============================] - 14s 3ms/step - loss: 0.1242 - accuracy: 0.9589 - val_loss: 0.1357 - val_accuracy: 0.9570\n",
            "Epoch 24/100\n",
            "5009/5009 [==============================] - 13s 3ms/step - loss: 0.1213 - accuracy: 0.9598 - val_loss: 0.1342 - val_accuracy: 0.9577\n",
            "Epoch 25/100\n",
            "5009/5009 [==============================] - 14s 3ms/step - loss: 0.1180 - accuracy: 0.9608 - val_loss: 0.1349 - val_accuracy: 0.9574\n",
            "Epoch 26/100\n",
            "5009/5009 [==============================] - 14s 3ms/step - loss: 0.1163 - accuracy: 0.9614 - val_loss: 0.1339 - val_accuracy: 0.9582\n",
            "Epoch 27/100\n",
            "5009/5009 [==============================] - 14s 3ms/step - loss: 0.1132 - accuracy: 0.9624 - val_loss: 0.1355 - val_accuracy: 0.9577\n",
            "Epoch 28/100\n",
            "5009/5009 [==============================] - 14s 3ms/step - loss: 0.1118 - accuracy: 0.9625 - val_loss: 0.1323 - val_accuracy: 0.9592\n",
            "Epoch 29/100\n",
            "5009/5009 [==============================] - 15s 3ms/step - loss: 0.1087 - accuracy: 0.9638 - val_loss: 0.1307 - val_accuracy: 0.9589\n",
            "Epoch 30/100\n",
            "5009/5009 [==============================] - 14s 3ms/step - loss: 0.1066 - accuracy: 0.9638 - val_loss: 0.1320 - val_accuracy: 0.9591\n",
            "Epoch 31/100\n",
            "5009/5009 [==============================] - 14s 3ms/step - loss: 0.1046 - accuracy: 0.9647 - val_loss: 0.1304 - val_accuracy: 0.9590\n",
            "Epoch 32/100\n",
            "5009/5009 [==============================] - 13s 3ms/step - loss: 0.1043 - accuracy: 0.9649 - val_loss: 0.1295 - val_accuracy: 0.9591\n",
            "Epoch 33/100\n",
            "5009/5009 [==============================] - 15s 3ms/step - loss: 0.1019 - accuracy: 0.9657 - val_loss: 0.1282 - val_accuracy: 0.9590\n",
            "Epoch 34/100\n",
            "5009/5009 [==============================] - 15s 3ms/step - loss: 0.1004 - accuracy: 0.9658 - val_loss: 0.1304 - val_accuracy: 0.9589\n",
            "Epoch 35/100\n",
            "5009/5009 [==============================] - 14s 3ms/step - loss: 0.0985 - accuracy: 0.9667 - val_loss: 0.1280 - val_accuracy: 0.9605\n",
            "Epoch 36/100\n",
            "5009/5009 [==============================] - 13s 3ms/step - loss: 0.0966 - accuracy: 0.9669 - val_loss: 0.1272 - val_accuracy: 0.9611\n",
            "Epoch 37/100\n",
            "5009/5009 [==============================] - 14s 3ms/step - loss: 0.0960 - accuracy: 0.9671 - val_loss: 0.1255 - val_accuracy: 0.9606\n",
            "Epoch 38/100\n",
            "5009/5009 [==============================] - 15s 3ms/step - loss: 0.0927 - accuracy: 0.9689 - val_loss: 0.1283 - val_accuracy: 0.9607\n",
            "Epoch 39/100\n",
            "5009/5009 [==============================] - 14s 3ms/step - loss: 0.0930 - accuracy: 0.9678 - val_loss: 0.1283 - val_accuracy: 0.9604\n",
            "Epoch 40/100\n",
            "5009/5009 [==============================] - 14s 3ms/step - loss: 0.0909 - accuracy: 0.9687 - val_loss: 0.1285 - val_accuracy: 0.9597\n",
            "Epoch 41/100\n",
            "5009/5009 [==============================] - 13s 3ms/step - loss: 0.0903 - accuracy: 0.9685 - val_loss: 0.1286 - val_accuracy: 0.9598\n",
            "Epoch 42/100\n",
            "5009/5009 [==============================] - 15s 3ms/step - loss: 0.0891 - accuracy: 0.9694 - val_loss: 0.1277 - val_accuracy: 0.9619\n",
            "Epoch 43/100\n",
            "5009/5009 [==============================] - 15s 3ms/step - loss: 0.0880 - accuracy: 0.9698 - val_loss: 0.1287 - val_accuracy: 0.9605\n",
            "Epoch 44/100\n",
            "5009/5009 [==============================] - 14s 3ms/step - loss: 0.0861 - accuracy: 0.9705 - val_loss: 0.1282 - val_accuracy: 0.9610\n",
            "Epoch 45/100\n",
            "5009/5009 [==============================] - 13s 3ms/step - loss: 0.0848 - accuracy: 0.9704 - val_loss: 0.1269 - val_accuracy: 0.9616\n",
            "Epoch 46/100\n",
            "5009/5009 [==============================] - 14s 3ms/step - loss: 0.0842 - accuracy: 0.9711 - val_loss: 0.1274 - val_accuracy: 0.9617\n",
            "Epoch 47/100\n",
            "5009/5009 [==============================] - 14s 3ms/step - loss: 0.0834 - accuracy: 0.9712 - val_loss: 0.1270 - val_accuracy: 0.9608\n",
            "Epoch 48/100\n",
            "5009/5009 [==============================] - 15s 3ms/step - loss: 0.0821 - accuracy: 0.9716 - val_loss: 0.1265 - val_accuracy: 0.9624\n",
            "Epoch 49/100\n",
            "5009/5009 [==============================] - 14s 3ms/step - loss: 0.0821 - accuracy: 0.9715 - val_loss: 0.1287 - val_accuracy: 0.9617\n",
            "Epoch 50/100\n",
            "5009/5009 [==============================] - 15s 3ms/step - loss: 0.0800 - accuracy: 0.9724 - val_loss: 0.1267 - val_accuracy: 0.9623\n",
            "Epoch 51/100\n",
            "5009/5009 [==============================] - 13s 3ms/step - loss: 0.0793 - accuracy: 0.9724 - val_loss: 0.1278 - val_accuracy: 0.9615\n",
            "Epoch 52/100\n",
            "5009/5009 [==============================] - 14s 3ms/step - loss: 0.0783 - accuracy: 0.9726 - val_loss: 0.1298 - val_accuracy: 0.9618\n",
            "Epoch 53/100\n",
            "5009/5009 [==============================] - 14s 3ms/step - loss: 0.0779 - accuracy: 0.9726 - val_loss: 0.1281 - val_accuracy: 0.9621\n",
            "Epoch 54/100\n",
            "5009/5009 [==============================] - 15s 3ms/step - loss: 0.0781 - accuracy: 0.9727 - val_loss: 0.1268 - val_accuracy: 0.9626\n",
            "Epoch 55/100\n",
            "5009/5009 [==============================] - 14s 3ms/step - loss: 0.0784 - accuracy: 0.9726 - val_loss: 0.1257 - val_accuracy: 0.9625\n",
            "Epoch 56/100\n",
            "5009/5009 [==============================] - 15s 3ms/step - loss: 0.0758 - accuracy: 0.9734 - val_loss: 0.1275 - val_accuracy: 0.9621\n",
            "Epoch 57/100\n",
            "5009/5009 [==============================] - 13s 3ms/step - loss: 0.0757 - accuracy: 0.9733 - val_loss: 0.1265 - val_accuracy: 0.9614\n",
            "Epoch 00057: early stopping\n"
          ],
          "name": "stdout"
        }
      ]
    },
    {
      "cell_type": "code",
      "metadata": {
        "colab": {
          "base_uri": "https://localhost:8080/",
          "height": 294
        },
        "id": "8W1D4cFJ_I0S",
        "outputId": "58319c29-1106-49ef-ddf1-7b49b794bd7d"
      },
      "source": [
        "plt.title('Model Loss')\n",
        "plt.ylabel('loss')\n",
        "plt.xlabel('epoch')\n",
        "plt.plot(history.history['loss'], label='train')\n",
        "plt.plot(history.history['val_loss'], label='val')\n",
        "plt.legend()\n",
        "plt.show();"
      ],
      "execution_count": 36,
      "outputs": [
        {
          "output_type": "display_data",
          "data": {
            "image/png": "[encoded data removed]",
            "text/plain": [
              "<Figure size 432x288 with 1 Axes>"
            ]
          },
          "metadata": {
            "tags": [],
            "needs_background": "light"
          }
        }
      ]
    },
    {
      "cell_type": "code",
      "metadata": {
        "colab": {
          "base_uri": "https://localhost:8080/",
          "height": 294
        },
        "id": "mfTAR-14_J8U",
        "outputId": "3b37c979-8f14-4cf5-aac9-5b1c2cf20857"
      },
      "source": [
        "plt.title('Model accuracy')\n",
        "plt.ylabel('accuracy')\n",
        "plt.xlabel('epoch')\n",
        "plt.plot(history.history['accuracy'], label='train')\n",
        "plt.plot(history.history['val_accuracy'], label='val')\n",
        "plt.legend()\n",
        "plt.show();"
      ],
      "execution_count": 37,
      "outputs": [
        {
          "output_type": "display_data",
          "data": {
            "image/png": "[encoded data removed]",
            "text/plain": [
              "<Figure size 432x288 with 1 Axes>"
            ]
          },
          "metadata": {
            "tags": [],
            "needs_background": "light"
          }
        }
      ]
    },
    {
      "cell_type": "code",
      "metadata": {
        "id": "uLM-cm_QXMHo"
      },
      "source": [
        "predictions=model.predict(X_test)"
      ],
      "execution_count": 26,
      "outputs": []
    },
    {
      "cell_type": "code",
      "metadata": {
        "colab": {
          "base_uri": "https://localhost:8080/",
          "height": 282
        },
        "id": "DUvvf_JK6NQ0",
        "outputId": "2cb75783-907a-46b1-b5ea-d6abf1fb8950"
      },
      "source": [
        "#lets check with an prediction\n",
        "plt.imshow(X_test[9], cmap=\"gray\")\n",
        "plt.show()\n",
        "print(f'Prediction: {y_test_cats.categories[np.argmax(predictions,axis=1)[9]]}')"
      ],
      "execution_count": 29,
      "outputs": [
        {
          "output_type": "display_data",
          "data": {
            "image/png": "[encoded data removed]",
            "text/plain": [
              "<Figure size 432x288 with 1 Axes>"
            ]
          },
          "metadata": {
            "tags": [],
            "needs_background": "light"
          }
        },
        {
          "output_type": "stream",
          "text": [
            "Prediction: 7\n"
          ],
          "name": "stdout"
        }
      ]
    },
    {
      "cell_type": "code",
      "metadata": {
        "id": "px-58xii6RcB",
        "colab": {
          "base_uri": "https://localhost:8080/"
        },
        "outputId": "052d72e8-1640-4c53-c184-95e82a0b260a"
      },
      "source": [
        "print(classification_report(y_test, np.argmax(predictions,axis=1)))\n",
        "\n",
        "cf = confusion_matrix(y_test, np.argmax(predictions,axis=1))\n",
        "print(cf)\n",
        "print(accuracy_score(y_test, np.argmax(predictions,axis=1)) * 100)\n",
        "\n",
        "#As we can see our model performs very will on all the numbers/characters in the test data"
      ],
      "execution_count": 30,
      "outputs": [
        {
          "output_type": "stream",
          "text": [
            "              precision    recall  f1-score   support\n",
            "\n",
            "           0       0.92      0.96      0.94      4924\n",
            "           1       0.97      0.98      0.97      4110\n",
            "           2       0.95      0.93      0.94      4387\n",
            "           3       0.97      0.98      0.98      4188\n",
            "           4       0.99      1.00      0.99      4167\n",
            "           5       0.92      0.92      0.92      4103\n",
            "           6       0.97      0.96      0.97      4021\n",
            "           7       0.95      0.95      0.95      4372\n",
            "           8       0.95      0.93      0.94      4349\n",
            "           9       0.97      0.95      0.96      4159\n",
            "          10       0.98      0.98      0.98      4078\n",
            "          11       0.92      0.95      0.93      3999\n",
            "          12       0.97      0.97      0.97      4133\n",
            "          13       0.94      0.94      0.94      3961\n",
            "          14       0.98      0.96      0.97      4126\n",
            "          15       0.97      0.92      0.94      3701\n",
            "\n",
            "    accuracy                           0.96     66778\n",
            "   macro avg       0.96      0.96      0.96     66778\n",
            "weighted avg       0.96      0.96      0.96     66778\n",
            "\n",
            "[[4732    0   10   66    0   76    3    0    0    0    0   26    0    0\n",
            "     4    7]\n",
            " [   0 4012   42    0    0    3    0    1   42    0    1    1    6    2\n",
            "     0    0]\n",
            " [  25   59 4084   52    0   25    8    6   65    7    4   34    1    8\n",
            "     4    5]\n",
            " [  44    1   12 4120    0    0    2    0    4    1    0    2    0    2\n",
            "     0    0]\n",
            " [   0    0    0    0 4150    0    0    1    0    0    7    0    3    6\n",
            "     0    0]\n",
            " [ 172    3   17    1    1 3791    9    2   23    4    0   50    1   17\n",
            "     3    9]\n",
            " [   2    0    7    0    1   20 3855   12   16    5    4   27   14   16\n",
            "    25   17]\n",
            " [   2    2    5    0    4    3   10 4137    8   87    0   35   18   45\n",
            "     0   16]\n",
            " [   2   59   74    2    0   60   13    5 4049    0    4   36    5   35\n",
            "     5    0]\n",
            " [   0    1    8    5    1    3    2   98    7 3968   15    4    2   28\n",
            "     0   17]\n",
            " [   0    4    2    1   11    1    2    2    2    5 4006    0   23    5\n",
            "    14    0]\n",
            " [  23    2   20    1    0   43   15   29   18    0    0 3791    1   22\n",
            "     3   31]\n",
            " [   0    6    0    0    6    2   10   10    1    1   27    4 4018   47\n",
            "     1    0]\n",
            " [   4    0    6    3   14   20    7   50   17   19    1   19   52 3731\n",
            "     1   17]\n",
            " [  50    0   11    0    0   42   20    1    1    0   14    4    0    2\n",
            "  3978    3]\n",
            " [  92    0    1    4    0   53    2    8    0   10    0   89    0   17\n",
            "     2 3423]]\n",
            "95.60783491569079\n"
          ],
          "name": "stdout"
        }
      ]
    }
  ]
}